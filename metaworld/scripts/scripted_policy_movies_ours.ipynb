{
 "cells": [
  {
   "cell_type": "code",
   "execution_count": 2,
   "metadata": {
    "collapsed": false,
    "jupyter": {
     "outputs_hidden": false
    },
    "pycharm": {
     "name": "#%%\n"
    }
   },
   "outputs": [
    {
     "name": "stdout",
     "output_type": "stream",
     "text": [
      "mujoco here!\n",
      "mujoco now here!\n",
      "mujoco here!\n",
      "mujoco now here!\n"
     ]
    },
    {
     "name": "stderr",
     "output_type": "stream",
     "text": [
      "/home/ykai/anaconda3/envs/metaGarage/lib/python3.9/site-packages/gym/spaces/box.py:84: UserWarning: \u001b[33mWARN: Box bound precision lowered by casting to float32\u001b[0m\n",
      "  logger.warn(f\"Box bound precision lowered by casting to {self.dtype}\")\n"
     ]
    }
   ],
   "source": [
    "import os\n",
    "import functools\n",
    "\n",
    "import cv2\n",
    "import numpy as np\n",
    "\n",
    "from tests.metaworld.envs.mujoco.sawyer_xyz.test_scripted_policies import ALL_ENVS, test_cases_latest_nonoise\n"
   ]
  },
  {
   "cell_type": "code",
   "execution_count": 3,
   "metadata": {
    "collapsed": false,
    "jupyter": {
     "outputs_hidden": false
    },
    "pycharm": {
     "name": "#%%\n"
    }
   },
   "outputs": [],
   "source": [
    "def trajectory_generator(env, policy, act_noise_pct, res=(640, 480), camera='corner'):\n",
    "    action_space_ptp = env.action_space.high - env.action_space.low\n",
    "\n",
    "    env.reset()\n",
    "    env.reset_model()\n",
    "    o = env.reset()\n",
    "\n",
    "    for _ in range(env.max_path_length):\n",
    "        a = policy.get_action(o)\n",
    "        a = np.random.normal(a, act_noise_pct * action_space_ptp)\n",
    "\n",
    "        o, r, done, info = env.step(a)\n",
    "        # Camera is one of ['corner', 'topview', 'behindGripper', 'gripperPOV']\n",
    "        # print(np.shape(env.sim.render(*res, mode='offscreen', camera_name=camera)[:,:,::-1]))\n",
    "        yield r, done, info, env.sim.render(*res, mode='offscreen', camera_name=camera)[:,:,::-1]\n",
    "\n",
    "# def writer_for(tag, fps, res):\n",
    "#     if not os.path.exists('movies_my'):\n",
    "#         os.mkdir('movies_my')\n",
    "#     return cv2.VideoWriter(\n",
    "#         f'movies_my/{tag}.avi',\n",
    "#         cv2.VideoWriter_fourcc('M','J','P','G'),\n",
    "#         fps,\n",
    "#         res\n",
    "#     )\n",
    "\n",
    "def write_for_img(tag, img):\n",
    "    if not os.path.exists('movies_my'):\n",
    "        os.mkdir('movies_my')\n",
    "    name = f'movies_my/{tag}.png'\n",
    "    return cv2.imwrite(name, img)"
   ]
  },
  {
   "cell_type": "code",
   "execution_count": 4,
   "metadata": {},
   "outputs": [],
   "source": [
    "!LD_PRELOAD=/usr/lib/x86_64-linux-gnu/libGLEW.so:/usr/lib/nvidia/libGL.so\n"
   ]
  },
  {
   "cell_type": "code",
   "execution_count": 5,
   "metadata": {},
   "outputs": [],
   "source": [
    "!export LD_LIBRARY_PATH=$LD_LIBRARY_PATH:/usr/lib/nvidia\n",
    "!export LD_LIBRARY_PATH=$LD_LIBRARY_PATH:/usr/lib/nvidia-510\n",
    "!export LD_PRELOAD=/usr/lib/x86_64-linux-gnu/libGLEW.so"
   ]
  },
  {
   "cell_type": "code",
   "execution_count": 6,
   "metadata": {},
   "outputs": [
    {
     "name": "stderr",
     "output_type": "stream",
     "text": [
      "/home/ykai/anaconda3/envs/metaGarage/lib/python3.9/site-packages/gym/spaces/box.py:84: UserWarning: \u001b[33mWARN: Box bound precision lowered by casting to float32\u001b[0m\n",
      "  logger.warn(f\"Box bound precision lowered by casting to {self.dtype}\")\n",
      "/ssd_2/ssd2048/papers/metaworld/metaworld/policies/policy.py:41: UserWarning: Constant(s) may be too high. Environments clip response to [-1, 1]\n",
      "  warnings.warn('Constant(s) may be too high. Environments clip response to [-1, 1]')\n"
     ]
    },
    {
     "name": "stdout",
     "output_type": "stream",
     "text": [
      "Found 3 GPUs for rendering. Using device 0.\n",
      "(1080, 1920, 3)\n",
      "(1080, 1920, 3)\n"
     ]
    }
   ],
   "source": [
    "resolution = (1920, 1080)\n",
    "camera = 'topview' # one of ['corner', 'topview', 'behindGripper', 'gripperPOV']\n",
    "camera = ['topview', 'corner', 'corner2', 'corner3', 'behindGripper', 'gripperPOV']\n",
    "my_camera = ['my_corner3', 'my_topview1']\n",
    "camera = my_camera\n",
    "flip=True # if True, flips output image 180 degrees\n",
    "\n",
    "config = [\n",
    "    # env, action noise pct, cycles, quit on success\n",
    "    ('assembly-v2', np.zeros(4), 1, True),\n",
    "]\n",
    "for camera in camera:\n",
    "    if camera in ['corner', 'corner2', 'corner3', 'gripperPOV', 'my_corner3']:\n",
    "        flip = False\n",
    "    else:\n",
    "        flip = True\n",
    "    for env, noise, cycles, quit_on_success in config:\n",
    "        tag = env + '-noise-' + np.array2string(noise, precision=2, separator=',', suppress_small=True)\\\n",
    "            + '-cycles-'+ str(cycles) +'-camera-'+ camera\n",
    "\n",
    "        policy = functools.reduce(lambda a,b : a if a[0] == env else b, test_cases_latest_nonoise)[1]\n",
    "        env = ALL_ENVS[env]()\n",
    "        env._partially_observable = False\n",
    "        env._freeze_rand_vec = False\n",
    "        env._set_task_called = True\n",
    "\n",
    "        # writer = writer_for(tag, env.metadata['video.frames_per_second'], resolution)\n",
    "        # for _ in range(cycles):\n",
    "        #     for r, done, info, img in trajectory_generator(env, policy, noise, resolution, camera):\n",
    "        #         if flip: img = cv2.rotate(img, cv2.ROTATE_180)\n",
    "        #         writer.write(img)\n",
    "        #         if quit_on_success and info['success']:\n",
    "        #             break\n",
    "        # writer.release()\n",
    "        \n",
    "        for _ in range(cycles):\n",
    "            for r, done, info, img in trajectory_generator(env, policy, noise, resolution, camera):\n",
    "                print(np.shape(img))\n",
    "                if flip: img = cv2.rotate(img, cv2.ROTATE_180)\n",
    "                write_for_img(tag, img)\n",
    "                break\n",
    "            \n",
    "                if quit_on_success and info['success']:\n",
    "                    break\n",
    "        \n",
    "    "
   ]
  },
  {
   "cell_type": "code",
   "execution_count": 7,
   "metadata": {},
   "outputs": [],
   "source": [
    "def my_trajectory_generator(env, policy, act_noise_pct, res=(640, 480), camera='corner', depth = True):\n",
    "    action_space_ptp = env.action_space.high - env.action_space.low\n",
    "    print(\"E1\")\n",
    "    env.reset()\n",
    "    env.reset_model()\n",
    "    o = env.reset()\n",
    "\n",
    "    for _ in range(env.max_path_length):\n",
    "        a = policy.get_action(o)\n",
    "        a = np.random.normal(a, act_noise_pct * action_space_ptp)\n",
    "\n",
    "        o, r, done, info = env.step(a)\n",
    "        # Camera is one of ['corner', 'topview', 'behindGripper', 'gripperPOV']\n",
    "        # print(np.shape(env.sim.render(*res, mode='offscreen', camera_name=camera)[:,:,::-1]))\n",
    "        img, d = env.sim.render(*res, mode='offscreen', camera_name=camera,depth = depth)\n",
    "        # print(depth)\n",
    "        print(\"E\")\n",
    "        yield r, done, info, img, d\n",
    "        \n",
    "def write_for_img(tag, img):\n",
    "    if not os.path.exists('movies_my'):\n",
    "        os.mkdir('movies_my')\n",
    "    name = f'movies_my/{tag}.png'\n",
    "    return cv2.imwrite(name, img)"
   ]
  },
  {
   "cell_type": "code",
   "execution_count": 8,
   "metadata": {},
   "outputs": [],
   "source": [
    "import numpy as np\n",
    "import cv2\n",
    "\n",
    "\n",
    "def bright_img(tag, img):\n",
    "    if not os.path.exists('movies_my'):\n",
    "        os.mkdir('movies_my')\n",
    "    name = f'movies_my/{tag}.png'\n",
    "    src = img\n",
    "    val = 100\n",
    "    array = np.full(src.shape, (val, val, val), dtype=np.uint8)\n",
    "\n",
    "    add = cv2.add(src, array)\n",
    "    return cv2.imwrite(name, add)"
   ]
  },
  {
   "cell_type": "code",
   "execution_count": 9,
   "metadata": {},
   "outputs": [
    {
     "name": "stdout",
     "output_type": "stream",
     "text": [
      "E1\n",
      "E\n",
      "[[0.9997777  0.99977785 0.9997781  ... 0.9997956  0.9997954  0.99979514]\n",
      " [0.99977785 0.9997781  0.9997783  ... 0.9997958  0.99979556 0.9997953 ]\n",
      " [0.99977803 0.9997783  0.99977845 ... 0.999796   0.99979573 0.9997955 ]\n",
      " ...\n",
      " [0.9902057  0.9902049  0.9902041  ... 0.9886916  0.98869085 0.9886901 ]\n",
      " [0.9902004  0.9901996  0.99019885 ... 0.9886864  0.98868555 0.9886848 ]\n",
      " [0.99019516 0.9901944  0.99019355 ... 0.9886811  0.9886803  0.9886795 ]]\n",
      "E1\n",
      "E\n",
      "[[0.99442875 0.99442875 0.99442875 ... 0.99442875 0.99442875 0.99442875]\n",
      " [0.99442875 0.99442875 0.99442875 ... 0.99442875 0.99442875 0.99442875]\n",
      " [0.99442875 0.99442875 0.99442875 ... 0.99442875 0.99442875 0.99442875]\n",
      " ...\n",
      " [0.99442875 0.99442875 0.99442875 ... 0.99442875 0.99442875 0.99442875]\n",
      " [0.99442875 0.99442875 0.99442875 ... 0.99442875 0.99442875 0.99442875]\n",
      " [0.99442875 0.99442875 0.99442875 ... 0.99442875 0.99442875 0.99442875]]\n"
     ]
    }
   ],
   "source": [
    "resolution = (1920, 1080)\n",
    "camera = 'topview' # one of ['corner', 'topview', 'behindGripper', 'gripperPOV']\n",
    "camera = ['topview', 'corner', 'corner2', 'corner3', 'behindGripper', 'gripperPOV']\n",
    "my_camera = ['my_corner3', 'my_topview1']\n",
    "camera = my_camera\n",
    "flip=True # if True, flips output image 180 degrees\n",
    "\n",
    "config = [\n",
    "    # env, action noise pct, cycles, quit on success\n",
    "    ('assembly-v2', np.zeros(4), 1, True),\n",
    "]\n",
    "\n",
    "for camera in camera:\n",
    "    if camera in ['corner', 'corner2', 'corner3', 'gripperPOV', 'my_corner3']:\n",
    "        flip = False\n",
    "    else:\n",
    "        flip = True\n",
    "    for env, noise, cycles, quit_on_success in config:\n",
    "        tag = env + '-noise-' + np.array2string(noise, precision=2, separator=',', suppress_small=True)\\\n",
    "            + '-cycles-'+ str(cycles) +'-camera-'+ camera\n",
    "\n",
    "        policy = functools.reduce(lambda a,b : a if a[0] == env else b, test_cases_latest_nonoise)[1]\n",
    "        env = ALL_ENVS[env]()\n",
    "        env._partially_observable = False\n",
    "        env._freeze_rand_vec = False\n",
    "        env._set_task_called = True\n",
    "        for _ in range(cycles):\n",
    "            for r, done, info, img, d in my_trajectory_generator(env, policy, noise, resolution, camera, depth = True):\n",
    "\n",
    "                if flip: img = cv2.rotate(img, cv2.ROTATE_180)\n",
    "                img = cv2.cvtColor(img, cv2.COLOR_BGR2RGB)\n",
    "                write_for_img(tag, img)\n",
    "                print(d)\n",
    "                # d = d[:, np.newaxis] \n",
    "                # print(img.shape)\n",
    "                # print(d.shape)\n",
    "                # print(d*255)\n",
    "                # d = bright_img(tag+'_depth', d)\n",
    "                write_for_img(tag+'_depth', d)\n",
    "                break\n",
    "            \n",
    "                if quit_on_success and info['success']:\n",
    "                    break"
   ]
  },
  {
   "cell_type": "code",
   "execution_count": 10,
   "metadata": {},
   "outputs": [],
   "source": [
    "img[:, :, 0], img[:, :, 2] = img[:, :, 2], img[:, :, 0] "
   ]
  },
  {
   "cell_type": "code",
   "execution_count": 16,
   "metadata": {},
   "outputs": [
    {
     "ename": "AttributeError",
     "evalue": "module 'numpy' has no attribute 'type'",
     "output_type": "error",
     "traceback": [
      "\u001b[0;31m---------------------------------------------------------------------------\u001b[0m",
      "\u001b[0;31mAttributeError\u001b[0m                            Traceback (most recent call last)",
      "\u001b[1;32m/home/ykai/ssd_2/ssd2048/papers/metaworld/scripts/scripted_policy_movies copy.ipynb Cell 10'\u001b[0m in \u001b[0;36m<cell line: 13>\u001b[0;34m()\u001b[0m\n\u001b[1;32m      <a href='vscode-notebook-cell:/home/ykai/ssd_2/ssd2048/papers/metaworld/scripts/scripted_policy_movies%20copy.ipynb#ch0000009?line=3'>4</a>\u001b[0m \u001b[39m# if img is None:\u001b[39;00m\n\u001b[1;32m      <a href='vscode-notebook-cell:/home/ykai/ssd_2/ssd2048/papers/metaworld/scripts/scripted_policy_movies%20copy.ipynb#ch0000009?line=4'>5</a>\u001b[0m \u001b[39m#     print('Image load failed')\u001b[39;00m\n\u001b[1;32m      <a href='vscode-notebook-cell:/home/ykai/ssd_2/ssd2048/papers/metaworld/scripts/scripted_policy_movies%20copy.ipynb#ch0000009?line=5'>6</a>\u001b[0m \u001b[39m#     sys.exit()\u001b[39;00m\n\u001b[0;32m   (...)\u001b[0m\n\u001b[1;32m     <a href='vscode-notebook-cell:/home/ykai/ssd_2/ssd2048/papers/metaworld/scripts/scripted_policy_movies%20copy.ipynb#ch0000009?line=9'>10</a>\u001b[0m \u001b[39m# cv2.destroyAllWindows()\u001b[39;00m\n\u001b[1;32m     <a href='vscode-notebook-cell:/home/ykai/ssd_2/ssd2048/papers/metaworld/scripts/scripted_policy_movies%20copy.ipynb#ch0000009?line=10'>11</a>\u001b[0m \u001b[39m# color_img = cv2.imread(name, cv2.IMREAD_COLOR)\u001b[39;00m\n\u001b[1;32m     <a href='vscode-notebook-cell:/home/ykai/ssd_2/ssd2048/papers/metaworld/scripts/scripted_policy_movies%20copy.ipynb#ch0000009?line=11'>12</a>\u001b[0m gray_img \u001b[39m=\u001b[39m cv2\u001b[39m.\u001b[39mimread(name)\n\u001b[0;32m---> <a href='vscode-notebook-cell:/home/ykai/ssd_2/ssd2048/papers/metaworld/scripts/scripted_policy_movies%20copy.ipynb#ch0000009?line=12'>13</a>\u001b[0m \u001b[39mprint\u001b[39m(np\u001b[39m.\u001b[39;49mtype(gray_img\u001b[39m.\u001b[39mtype))\n\u001b[1;32m     <a href='vscode-notebook-cell:/home/ykai/ssd_2/ssd2048/papers/metaworld/scripts/scripted_policy_movies%20copy.ipynb#ch0000009?line=13'>14</a>\u001b[0m \u001b[39mprint\u001b[39m(np\u001b[39m.\u001b[39mshape(gray_img))\n",
      "File \u001b[0;32m~/anaconda3/envs/metaGarage/lib/python3.9/site-packages/numpy/__init__.py:313\u001b[0m, in \u001b[0;36m__getattr__\u001b[0;34m(attr)\u001b[0m\n\u001b[1;32m    <a href='file:///home/ykai/anaconda3/envs/metaGarage/lib/python3.9/site-packages/numpy/__init__.py?line=309'>310</a>\u001b[0m     \u001b[39mfrom\u001b[39;00m \u001b[39m.\u001b[39;00m\u001b[39mtesting\u001b[39;00m \u001b[39mimport\u001b[39;00m Tester\n\u001b[1;32m    <a href='file:///home/ykai/anaconda3/envs/metaGarage/lib/python3.9/site-packages/numpy/__init__.py?line=310'>311</a>\u001b[0m     \u001b[39mreturn\u001b[39;00m Tester\n\u001b[0;32m--> <a href='file:///home/ykai/anaconda3/envs/metaGarage/lib/python3.9/site-packages/numpy/__init__.py?line=312'>313</a>\u001b[0m \u001b[39mraise\u001b[39;00m \u001b[39mAttributeError\u001b[39;00m(\u001b[39m\"\u001b[39m\u001b[39mmodule \u001b[39m\u001b[39m{!r}\u001b[39;00m\u001b[39m has no attribute \u001b[39m\u001b[39m\"\u001b[39m\n\u001b[1;32m    <a href='file:///home/ykai/anaconda3/envs/metaGarage/lib/python3.9/site-packages/numpy/__init__.py?line=313'>314</a>\u001b[0m                      \u001b[39m\"\u001b[39m\u001b[39m{!r}\u001b[39;00m\u001b[39m\"\u001b[39m\u001b[39m.\u001b[39mformat(\u001b[39m__name__\u001b[39m, attr))\n",
      "\u001b[0;31mAttributeError\u001b[0m: module 'numpy' has no attribute 'type'"
     ]
    }
   ],
   "source": [
    "\n",
    "name = f'movies_my/linemod_depth2.png'\n",
    "\n",
    "img = cv2.imread(name)\n",
    "# if img is None:\n",
    "#     print('Image load failed')\n",
    "#     sys.exit()\n",
    "# cv2.imshow('lenna', img)\n",
    "# cv2.waitKey()\n",
    "\n",
    "# cv2.destroyAllWindows()\n",
    "# color_img = cv2.imread(name, cv2.IMREAD_COLOR)\n",
    "gray_img = cv2.imread(name)\n",
    "print(gray_img.type)\n",
    "print(np.shape(gray_img))\n",
    "# # unch_img = cv2.imread(name, cv2.IMREAD_UNCHANGED)\n",
    "# bright_img = cv2.add(gray_img, 100)\n",
    "# # cv2.imshow('color_img',color_img)\n",
    "# cv2.imshow('gray_img',gray_img)\n",
    "# # cv2.imshow('unch_img',unch_img)\n",
    "\n",
    "# cv2.waitKey()\n",
    "# cv2.destroyAllWindows()"
   ]
  },
  {
   "cell_type": "code",
   "execution_count": 12,
   "metadata": {},
   "outputs": [
    {
     "name": "stdout",
     "output_type": "stream",
     "text": [
      "15\n",
      "0\n"
     ]
    }
   ],
   "source": [
    "print(np.max(img))\n",
    "print(np.min(img))"
   ]
  },
  {
   "cell_type": "code",
   "execution_count": null,
   "metadata": {},
   "outputs": [],
   "source": []
  }
 ],
 "metadata": {
  "interpreter": {
   "hash": "49e4eb5cbff0ec5c28376266370c54afeb1300aa523691c90c3088f8e0cd18b0"
  },
  "kernelspec": {
   "display_name": "Python 3.9.0 ('metaGarage')",
   "language": "python",
   "name": "python3"
  },
  "language_info": {
   "codemirror_mode": {
    "name": "ipython",
    "version": 3
   },
   "file_extension": ".py",
   "mimetype": "text/x-python",
   "name": "python",
   "nbconvert_exporter": "python",
   "pygments_lexer": "ipython3",
   "version": "3.9.0"
  }
 },
 "nbformat": 4,
 "nbformat_minor": 4
}
