{
 "cells": [
  {
   "cell_type": "code",
   "execution_count": 3,
   "metadata": {},
   "outputs": [],
   "source": [
    "# For preventing some error message\n",
    "import gym\n",
    "gym.logger.set_level(40)"
   ]
  },
  {
   "cell_type": "code",
   "execution_count": 4,
   "metadata": {
    "collapsed": false,
    "jupyter": {
     "outputs_hidden": false
    },
    "pycharm": {
     "name": "#%%\n"
    }
   },
   "outputs": [
    {
     "ename": "ImportError",
     "evalue": "cannot import name 'envs' from partially initialized module 'metaworld' (most likely due to a circular import) (/home/ykai/anaconda3/envs/Testaa/lib/python3.9/site-packages/metaworld/__init__.py)",
     "output_type": "error",
     "traceback": [
      "\u001b[0;31m---------------------------------------------------------------------------\u001b[0m",
      "\u001b[0;31mImportError\u001b[0m                               Traceback (most recent call last)",
      "\u001b[1;32m/home/ykai/ssd_2/ssd2048/papers/Sensory_extended_metaworld/metaworld/scripts/scripted_policy_movies_ours_new.ipynb Cell 2'\u001b[0m in \u001b[0;36m<cell line: 7>\u001b[0;34m()\u001b[0m\n\u001b[1;32m      <a href='vscode-notebook-cell:/home/ykai/ssd_2/ssd2048/papers/Sensory_extended_metaworld/metaworld/scripts/scripted_policy_movies_ours_new.ipynb#ch0000001?line=3'>4</a>\u001b[0m \u001b[39mimport\u001b[39;00m \u001b[39mcv2\u001b[39;00m\n\u001b[1;32m      <a href='vscode-notebook-cell:/home/ykai/ssd_2/ssd2048/papers/Sensory_extended_metaworld/metaworld/scripts/scripted_policy_movies_ours_new.ipynb#ch0000001?line=4'>5</a>\u001b[0m \u001b[39mimport\u001b[39;00m \u001b[39mnumpy\u001b[39;00m \u001b[39mas\u001b[39;00m \u001b[39mnp\u001b[39;00m\n\u001b[0;32m----> <a href='vscode-notebook-cell:/home/ykai/ssd_2/ssd2048/papers/Sensory_extended_metaworld/metaworld/scripts/scripted_policy_movies_ours_new.ipynb#ch0000001?line=6'>7</a>\u001b[0m \u001b[39mfrom\u001b[39;00m \u001b[39mtests\u001b[39;00m\u001b[39m.\u001b[39;00m\u001b[39mmetaworld\u001b[39;00m\u001b[39m.\u001b[39;00m\u001b[39menvs\u001b[39;00m\u001b[39m.\u001b[39;00m\u001b[39mmujoco\u001b[39;00m\u001b[39m.\u001b[39;00m\u001b[39msawyer_xyz\u001b[39;00m\u001b[39m.\u001b[39;00m\u001b[39mtest_scripted_policies\u001b[39;00m \u001b[39mimport\u001b[39;00m ALL_ENVS, test_cases_latest_nonoise\n",
      "File \u001b[0;32m~/anaconda3/envs/Testaa/lib/python3.9/site-packages/tests/metaworld/envs/mujoco/sawyer_xyz/test_scripted_policies.py:3\u001b[0m, in \u001b[0;36m<module>\u001b[0;34m\u001b[0m\n\u001b[1;32m      <a href='file:///home/ykai/anaconda3/envs/Testaa/lib/python3.9/site-packages/tests/metaworld/envs/mujoco/sawyer_xyz/test_scripted_policies.py?line=0'>1</a>\u001b[0m \u001b[39mimport\u001b[39;00m \u001b[39mpytest\u001b[39;00m\n\u001b[0;32m----> <a href='file:///home/ykai/anaconda3/envs/Testaa/lib/python3.9/site-packages/tests/metaworld/envs/mujoco/sawyer_xyz/test_scripted_policies.py?line=2'>3</a>\u001b[0m \u001b[39mfrom\u001b[39;00m \u001b[39mmetaworld\u001b[39;00m\u001b[39m.\u001b[39;00m\u001b[39menvs\u001b[39;00m\u001b[39m.\u001b[39;00m\u001b[39mmujoco\u001b[39;00m\u001b[39m.\u001b[39;00m\u001b[39menv_dict\u001b[39;00m \u001b[39mimport\u001b[39;00m ALL_V1_ENVIRONMENTS, ALL_V2_ENVIRONMENTS\n\u001b[1;32m      <a href='file:///home/ykai/anaconda3/envs/Testaa/lib/python3.9/site-packages/tests/metaworld/envs/mujoco/sawyer_xyz/test_scripted_policies.py?line=3'>4</a>\u001b[0m \u001b[39mfrom\u001b[39;00m \u001b[39mmetaworld\u001b[39;00m\u001b[39m.\u001b[39;00m\u001b[39mpolicies\u001b[39;00m \u001b[39mimport\u001b[39;00m \u001b[39m*\u001b[39m\n\u001b[1;32m      <a href='file:///home/ykai/anaconda3/envs/Testaa/lib/python3.9/site-packages/tests/metaworld/envs/mujoco/sawyer_xyz/test_scripted_policies.py?line=4'>5</a>\u001b[0m \u001b[39mfrom\u001b[39;00m \u001b[39mtests\u001b[39;00m\u001b[39m.\u001b[39;00m\u001b[39mmetaworld\u001b[39;00m\u001b[39m.\u001b[39;00m\u001b[39menvs\u001b[39;00m\u001b[39m.\u001b[39;00m\u001b[39mmujoco\u001b[39;00m\u001b[39m.\u001b[39;00m\u001b[39msawyer_xyz\u001b[39;00m\u001b[39m.\u001b[39;00m\u001b[39mutils\u001b[39;00m \u001b[39mimport\u001b[39;00m trajectory_summary\n",
      "File \u001b[0;32m~/anaconda3/envs/Testaa/lib/python3.9/site-packages/metaworld/envs/mujoco/env_dict.py:54\u001b[0m, in \u001b[0;36m<module>\u001b[0;34m\u001b[0m\n\u001b[1;32m      <a href='file:///home/ykai/anaconda3/envs/Testaa/lib/python3.9/site-packages/metaworld/envs/mujoco/env_dict.py?line=3'>4</a>\u001b[0m \u001b[39mimport\u001b[39;00m \u001b[39mnumpy\u001b[39;00m \u001b[39mas\u001b[39;00m \u001b[39mnp\u001b[39;00m\n\u001b[1;32m      <a href='file:///home/ykai/anaconda3/envs/Testaa/lib/python3.9/site-packages/metaworld/envs/mujoco/env_dict.py?line=5'>6</a>\u001b[0m \u001b[39mfrom\u001b[39;00m \u001b[39mmetaworld\u001b[39;00m\u001b[39m.\u001b[39;00m\u001b[39menvs\u001b[39;00m\u001b[39m.\u001b[39;00m\u001b[39mmujoco\u001b[39;00m\u001b[39m.\u001b[39;00m\u001b[39msawyer_xyz\u001b[39;00m\u001b[39m.\u001b[39;00m\u001b[39mv1\u001b[39;00m \u001b[39mimport\u001b[39;00m (\n\u001b[1;32m      <a href='file:///home/ykai/anaconda3/envs/Testaa/lib/python3.9/site-packages/metaworld/envs/mujoco/env_dict.py?line=6'>7</a>\u001b[0m     SawyerNutAssemblyEnv,\n\u001b[1;32m      <a href='file:///home/ykai/anaconda3/envs/Testaa/lib/python3.9/site-packages/metaworld/envs/mujoco/env_dict.py?line=7'>8</a>\u001b[0m     SawyerBasketballEnv,\n\u001b[0;32m   (...)\u001b[0m\n\u001b[1;32m     <a href='file:///home/ykai/anaconda3/envs/Testaa/lib/python3.9/site-packages/metaworld/envs/mujoco/env_dict.py?line=51'>52</a>\u001b[0m     SawyerWindowOpenEnv,\n\u001b[1;32m     <a href='file:///home/ykai/anaconda3/envs/Testaa/lib/python3.9/site-packages/metaworld/envs/mujoco/env_dict.py?line=52'>53</a>\u001b[0m )\n\u001b[0;32m---> <a href='file:///home/ykai/anaconda3/envs/Testaa/lib/python3.9/site-packages/metaworld/envs/mujoco/env_dict.py?line=53'>54</a>\u001b[0m \u001b[39mfrom\u001b[39;00m \u001b[39mmetaworld\u001b[39;00m\u001b[39m.\u001b[39;00m\u001b[39menvs\u001b[39;00m\u001b[39m.\u001b[39;00m\u001b[39mmujoco\u001b[39;00m\u001b[39m.\u001b[39;00m\u001b[39msawyer_xyz\u001b[39;00m\u001b[39m.\u001b[39;00m\u001b[39mv2\u001b[39;00m \u001b[39mimport\u001b[39;00m (\n\u001b[1;32m     <a href='file:///home/ykai/anaconda3/envs/Testaa/lib/python3.9/site-packages/metaworld/envs/mujoco/env_dict.py?line=54'>55</a>\u001b[0m     SawyerNutAssemblyEnvV2,\n\u001b[1;32m     <a href='file:///home/ykai/anaconda3/envs/Testaa/lib/python3.9/site-packages/metaworld/envs/mujoco/env_dict.py?line=55'>56</a>\u001b[0m     SawyerBasketballEnvV2,\n\u001b[1;32m     <a href='file:///home/ykai/anaconda3/envs/Testaa/lib/python3.9/site-packages/metaworld/envs/mujoco/env_dict.py?line=56'>57</a>\u001b[0m     SawyerBinPickingEnvV2,\n\u001b[1;32m     <a href='file:///home/ykai/anaconda3/envs/Testaa/lib/python3.9/site-packages/metaworld/envs/mujoco/env_dict.py?line=57'>58</a>\u001b[0m     SawyerBoxCloseEnvV2,\n\u001b[1;32m     <a href='file:///home/ykai/anaconda3/envs/Testaa/lib/python3.9/site-packages/metaworld/envs/mujoco/env_dict.py?line=58'>59</a>\u001b[0m     SawyerButtonPressTopdownEnvV2,\n\u001b[1;32m     <a href='file:///home/ykai/anaconda3/envs/Testaa/lib/python3.9/site-packages/metaworld/envs/mujoco/env_dict.py?line=59'>60</a>\u001b[0m     SawyerButtonPressTopdownWallEnvV2,\n\u001b[1;32m     <a href='file:///home/ykai/anaconda3/envs/Testaa/lib/python3.9/site-packages/metaworld/envs/mujoco/env_dict.py?line=60'>61</a>\u001b[0m     SawyerButtonPressEnvV2,\n\u001b[1;32m     <a href='file:///home/ykai/anaconda3/envs/Testaa/lib/python3.9/site-packages/metaworld/envs/mujoco/env_dict.py?line=61'>62</a>\u001b[0m     SawyerButtonPressWallEnvV2,\n\u001b[1;32m     <a href='file:///home/ykai/anaconda3/envs/Testaa/lib/python3.9/site-packages/metaworld/envs/mujoco/env_dict.py?line=62'>63</a>\u001b[0m     SawyerCoffeeButtonEnvV2,\n\u001b[1;32m     <a href='file:///home/ykai/anaconda3/envs/Testaa/lib/python3.9/site-packages/metaworld/envs/mujoco/env_dict.py?line=63'>64</a>\u001b[0m     SawyerCoffeePullEnvV2,\n\u001b[1;32m     <a href='file:///home/ykai/anaconda3/envs/Testaa/lib/python3.9/site-packages/metaworld/envs/mujoco/env_dict.py?line=64'>65</a>\u001b[0m     SawyerCoffeePushEnvV2,\n\u001b[1;32m     <a href='file:///home/ykai/anaconda3/envs/Testaa/lib/python3.9/site-packages/metaworld/envs/mujoco/env_dict.py?line=65'>66</a>\u001b[0m     SawyerDialTurnEnvV2,\n\u001b[1;32m     <a href='file:///home/ykai/anaconda3/envs/Testaa/lib/python3.9/site-packages/metaworld/envs/mujoco/env_dict.py?line=66'>67</a>\u001b[0m     SawyerNutDisassembleEnvV2,\n\u001b[1;32m     <a href='file:///home/ykai/anaconda3/envs/Testaa/lib/python3.9/site-packages/metaworld/envs/mujoco/env_dict.py?line=67'>68</a>\u001b[0m     SawyerDoorCloseEnvV2,\n\u001b[1;32m     <a href='file:///home/ykai/anaconda3/envs/Testaa/lib/python3.9/site-packages/metaworld/envs/mujoco/env_dict.py?line=68'>69</a>\u001b[0m     SawyerDoorLockEnvV2,\n\u001b[1;32m     <a href='file:///home/ykai/anaconda3/envs/Testaa/lib/python3.9/site-packages/metaworld/envs/mujoco/env_dict.py?line=69'>70</a>\u001b[0m     SawyerDoorUnlockEnvV2,\n\u001b[1;32m     <a href='file:///home/ykai/anaconda3/envs/Testaa/lib/python3.9/site-packages/metaworld/envs/mujoco/env_dict.py?line=70'>71</a>\u001b[0m     SawyerDoorEnvV2,\n\u001b[1;32m     <a href='file:///home/ykai/anaconda3/envs/Testaa/lib/python3.9/site-packages/metaworld/envs/mujoco/env_dict.py?line=71'>72</a>\u001b[0m     SawyerDrawerCloseEnvV2,\n\u001b[1;32m     <a href='file:///home/ykai/anaconda3/envs/Testaa/lib/python3.9/site-packages/metaworld/envs/mujoco/env_dict.py?line=72'>73</a>\u001b[0m     SawyerDrawerOpenEnvV2,\n\u001b[1;32m     <a href='file:///home/ykai/anaconda3/envs/Testaa/lib/python3.9/site-packages/metaworld/envs/mujoco/env_dict.py?line=73'>74</a>\u001b[0m     SawyerFaucetCloseEnvV2,\n\u001b[1;32m     <a href='file:///home/ykai/anaconda3/envs/Testaa/lib/python3.9/site-packages/metaworld/envs/mujoco/env_dict.py?line=74'>75</a>\u001b[0m     SawyerFaucetOpenEnvV2,\n\u001b[1;32m     <a href='file:///home/ykai/anaconda3/envs/Testaa/lib/python3.9/site-packages/metaworld/envs/mujoco/env_dict.py?line=75'>76</a>\u001b[0m     SawyerHammerEnvV2,\n\u001b[1;32m     <a href='file:///home/ykai/anaconda3/envs/Testaa/lib/python3.9/site-packages/metaworld/envs/mujoco/env_dict.py?line=76'>77</a>\u001b[0m     SawyerHandInsertEnvV2,\n\u001b[1;32m     <a href='file:///home/ykai/anaconda3/envs/Testaa/lib/python3.9/site-packages/metaworld/envs/mujoco/env_dict.py?line=77'>78</a>\u001b[0m     SawyerHandlePressSideEnvV2,\n\u001b[1;32m     <a href='file:///home/ykai/anaconda3/envs/Testaa/lib/python3.9/site-packages/metaworld/envs/mujoco/env_dict.py?line=78'>79</a>\u001b[0m     SawyerHandlePressEnvV2,\n\u001b[1;32m     <a href='file:///home/ykai/anaconda3/envs/Testaa/lib/python3.9/site-packages/metaworld/envs/mujoco/env_dict.py?line=79'>80</a>\u001b[0m     SawyerHandlePullSideEnvV2,\n\u001b[1;32m     <a href='file:///home/ykai/anaconda3/envs/Testaa/lib/python3.9/site-packages/metaworld/envs/mujoco/env_dict.py?line=80'>81</a>\u001b[0m     SawyerHandlePullEnvV2,\n\u001b[1;32m     <a href='file:///home/ykai/anaconda3/envs/Testaa/lib/python3.9/site-packages/metaworld/envs/mujoco/env_dict.py?line=81'>82</a>\u001b[0m     SawyerLeverPullEnvV2,\n\u001b[1;32m     <a href='file:///home/ykai/anaconda3/envs/Testaa/lib/python3.9/site-packages/metaworld/envs/mujoco/env_dict.py?line=82'>83</a>\u001b[0m     SawyerPegInsertionSideEnvV2,\n\u001b[1;32m     <a href='file:///home/ykai/anaconda3/envs/Testaa/lib/python3.9/site-packages/metaworld/envs/mujoco/env_dict.py?line=83'>84</a>\u001b[0m     SawyerPegUnplugSideEnvV2,\n\u001b[1;32m     <a href='file:///home/ykai/anaconda3/envs/Testaa/lib/python3.9/site-packages/metaworld/envs/mujoco/env_dict.py?line=84'>85</a>\u001b[0m     SawyerPickOutOfHoleEnvV2,\n\u001b[1;32m     <a href='file:///home/ykai/anaconda3/envs/Testaa/lib/python3.9/site-packages/metaworld/envs/mujoco/env_dict.py?line=85'>86</a>\u001b[0m     SawyerPickPlaceEnvV2,\n\u001b[1;32m     <a href='file:///home/ykai/anaconda3/envs/Testaa/lib/python3.9/site-packages/metaworld/envs/mujoco/env_dict.py?line=86'>87</a>\u001b[0m     SawyerPickPlaceWallEnvV2,\n\u001b[1;32m     <a href='file:///home/ykai/anaconda3/envs/Testaa/lib/python3.9/site-packages/metaworld/envs/mujoco/env_dict.py?line=87'>88</a>\u001b[0m     SawyerPlateSlideBackSideEnvV2,\n\u001b[1;32m     <a href='file:///home/ykai/anaconda3/envs/Testaa/lib/python3.9/site-packages/metaworld/envs/mujoco/env_dict.py?line=88'>89</a>\u001b[0m     SawyerPlateSlideBackEnvV2,\n\u001b[1;32m     <a href='file:///home/ykai/anaconda3/envs/Testaa/lib/python3.9/site-packages/metaworld/envs/mujoco/env_dict.py?line=89'>90</a>\u001b[0m     SawyerPlateSlideSideEnvV2,\n\u001b[1;32m     <a href='file:///home/ykai/anaconda3/envs/Testaa/lib/python3.9/site-packages/metaworld/envs/mujoco/env_dict.py?line=90'>91</a>\u001b[0m     SawyerPlateSlideEnvV2,\n\u001b[1;32m     <a href='file:///home/ykai/anaconda3/envs/Testaa/lib/python3.9/site-packages/metaworld/envs/mujoco/env_dict.py?line=91'>92</a>\u001b[0m     SawyerPushBackEnvV2,\n\u001b[1;32m     <a href='file:///home/ykai/anaconda3/envs/Testaa/lib/python3.9/site-packages/metaworld/envs/mujoco/env_dict.py?line=92'>93</a>\u001b[0m     SawyerPushEnvV2,\n\u001b[1;32m     <a href='file:///home/ykai/anaconda3/envs/Testaa/lib/python3.9/site-packages/metaworld/envs/mujoco/env_dict.py?line=93'>94</a>\u001b[0m     SawyerPushWallEnvV2,\n\u001b[1;32m     <a href='file:///home/ykai/anaconda3/envs/Testaa/lib/python3.9/site-packages/metaworld/envs/mujoco/env_dict.py?line=94'>95</a>\u001b[0m     SawyerReachEnvV2,\n\u001b[1;32m     <a href='file:///home/ykai/anaconda3/envs/Testaa/lib/python3.9/site-packages/metaworld/envs/mujoco/env_dict.py?line=95'>96</a>\u001b[0m     SawyerReachWallEnvV2,\n\u001b[1;32m     <a href='file:///home/ykai/anaconda3/envs/Testaa/lib/python3.9/site-packages/metaworld/envs/mujoco/env_dict.py?line=96'>97</a>\u001b[0m     SawyerShelfPlaceEnvV2,\n\u001b[1;32m     <a href='file:///home/ykai/anaconda3/envs/Testaa/lib/python3.9/site-packages/metaworld/envs/mujoco/env_dict.py?line=97'>98</a>\u001b[0m     SawyerSoccerEnvV2,\n\u001b[1;32m     <a href='file:///home/ykai/anaconda3/envs/Testaa/lib/python3.9/site-packages/metaworld/envs/mujoco/env_dict.py?line=98'>99</a>\u001b[0m     SawyerStickPullEnvV2,\n\u001b[1;32m    <a href='file:///home/ykai/anaconda3/envs/Testaa/lib/python3.9/site-packages/metaworld/envs/mujoco/env_dict.py?line=99'>100</a>\u001b[0m     SawyerStickPushEnvV2,\n\u001b[1;32m    <a href='file:///home/ykai/anaconda3/envs/Testaa/lib/python3.9/site-packages/metaworld/envs/mujoco/env_dict.py?line=100'>101</a>\u001b[0m     SawyerSweepEnvV2,\n\u001b[1;32m    <a href='file:///home/ykai/anaconda3/envs/Testaa/lib/python3.9/site-packages/metaworld/envs/mujoco/env_dict.py?line=101'>102</a>\u001b[0m     SawyerSweepIntoGoalEnvV2,\n\u001b[1;32m    <a href='file:///home/ykai/anaconda3/envs/Testaa/lib/python3.9/site-packages/metaworld/envs/mujoco/env_dict.py?line=102'>103</a>\u001b[0m     SawyerWindowCloseEnvV2,\n\u001b[1;32m    <a href='file:///home/ykai/anaconda3/envs/Testaa/lib/python3.9/site-packages/metaworld/envs/mujoco/env_dict.py?line=103'>104</a>\u001b[0m     SawyerWindowOpenEnvV2,\n\u001b[1;32m    <a href='file:///home/ykai/anaconda3/envs/Testaa/lib/python3.9/site-packages/metaworld/envs/mujoco/env_dict.py?line=104'>105</a>\u001b[0m )\n\u001b[1;32m    <a href='file:///home/ykai/anaconda3/envs/Testaa/lib/python3.9/site-packages/metaworld/envs/mujoco/env_dict.py?line=107'>108</a>\u001b[0m ALL_V1_ENVIRONMENTS \u001b[39m=\u001b[39m OrderedDict((\n\u001b[1;32m    <a href='file:///home/ykai/anaconda3/envs/Testaa/lib/python3.9/site-packages/metaworld/envs/mujoco/env_dict.py?line=108'>109</a>\u001b[0m     (\u001b[39m'\u001b[39m\u001b[39mreach-v1\u001b[39m\u001b[39m'\u001b[39m, SawyerReachPushPickPlaceEnv),\n\u001b[1;32m    <a href='file:///home/ykai/anaconda3/envs/Testaa/lib/python3.9/site-packages/metaworld/envs/mujoco/env_dict.py?line=109'>110</a>\u001b[0m     (\u001b[39m'\u001b[39m\u001b[39mpush-v1\u001b[39m\u001b[39m'\u001b[39m, SawyerReachPushPickPlaceEnv),\n\u001b[0;32m   (...)\u001b[0m\n\u001b[1;32m    <a href='file:///home/ykai/anaconda3/envs/Testaa/lib/python3.9/site-packages/metaworld/envs/mujoco/env_dict.py?line=157'>158</a>\u001b[0m     (\u001b[39m'\u001b[39m\u001b[39mdoor-unlock-v1\u001b[39m\u001b[39m'\u001b[39m, SawyerDoorUnlockEnv),\n\u001b[1;32m    <a href='file:///home/ykai/anaconda3/envs/Testaa/lib/python3.9/site-packages/metaworld/envs/mujoco/env_dict.py?line=158'>159</a>\u001b[0m ))\n\u001b[1;32m    <a href='file:///home/ykai/anaconda3/envs/Testaa/lib/python3.9/site-packages/metaworld/envs/mujoco/env_dict.py?line=160'>161</a>\u001b[0m ALL_V2_ENVIRONMENTS \u001b[39m=\u001b[39m OrderedDict((\n\u001b[1;32m    <a href='file:///home/ykai/anaconda3/envs/Testaa/lib/python3.9/site-packages/metaworld/envs/mujoco/env_dict.py?line=161'>162</a>\u001b[0m     (\u001b[39m'\u001b[39m\u001b[39massembly-v2\u001b[39m\u001b[39m'\u001b[39m, SawyerNutAssemblyEnvV2),\n\u001b[1;32m    <a href='file:///home/ykai/anaconda3/envs/Testaa/lib/python3.9/site-packages/metaworld/envs/mujoco/env_dict.py?line=162'>163</a>\u001b[0m     (\u001b[39m'\u001b[39m\u001b[39mbasketball-v2\u001b[39m\u001b[39m'\u001b[39m, SawyerBasketballEnvV2),\n\u001b[0;32m   (...)\u001b[0m\n\u001b[1;32m    <a href='file:///home/ykai/anaconda3/envs/Testaa/lib/python3.9/site-packages/metaworld/envs/mujoco/env_dict.py?line=213'>214</a>\u001b[0m     (\u001b[39m'\u001b[39m\u001b[39mwindow-close-v2\u001b[39m\u001b[39m'\u001b[39m, SawyerWindowCloseEnvV2),\n\u001b[1;32m    <a href='file:///home/ykai/anaconda3/envs/Testaa/lib/python3.9/site-packages/metaworld/envs/mujoco/env_dict.py?line=214'>215</a>\u001b[0m ))\n",
      "File \u001b[0;32m~/anaconda3/envs/Testaa/lib/python3.9/site-packages/metaworld/envs/mujoco/sawyer_xyz/v2/__init__.py:10\u001b[0m, in \u001b[0;36m<module>\u001b[0;34m\u001b[0m\n\u001b[1;32m      <a href='file:///home/ykai/anaconda3/envs/Testaa/lib/python3.9/site-packages/metaworld/envs/mujoco/sawyer_xyz/v2/__init__.py?line=7'>8</a>\u001b[0m \u001b[39mfrom\u001b[39;00m \u001b[39mmetaworld\u001b[39;00m\u001b[39m.\u001b[39;00m\u001b[39menvs\u001b[39;00m\u001b[39m.\u001b[39;00m\u001b[39mmujoco\u001b[39;00m\u001b[39m.\u001b[39;00m\u001b[39msawyer_xyz\u001b[39;00m\u001b[39m.\u001b[39;00m\u001b[39mv2\u001b[39;00m\u001b[39m.\u001b[39;00m\u001b[39msawyer_button_press_wall_v2\u001b[39;00m \u001b[39mimport\u001b[39;00m SawyerButtonPressWallEnvV2\n\u001b[1;32m      <a href='file:///home/ykai/anaconda3/envs/Testaa/lib/python3.9/site-packages/metaworld/envs/mujoco/sawyer_xyz/v2/__init__.py?line=8'>9</a>\u001b[0m \u001b[39mfrom\u001b[39;00m \u001b[39mmetaworld\u001b[39;00m\u001b[39m.\u001b[39;00m\u001b[39menvs\u001b[39;00m\u001b[39m.\u001b[39;00m\u001b[39mmujoco\u001b[39;00m\u001b[39m.\u001b[39;00m\u001b[39msawyer_xyz\u001b[39;00m\u001b[39m.\u001b[39;00m\u001b[39mv2\u001b[39;00m\u001b[39m.\u001b[39;00m\u001b[39msawyer_coffee_button_v2\u001b[39;00m \u001b[39mimport\u001b[39;00m SawyerCoffeeButtonEnvV2\n\u001b[0;32m---> <a href='file:///home/ykai/anaconda3/envs/Testaa/lib/python3.9/site-packages/metaworld/envs/mujoco/sawyer_xyz/v2/__init__.py?line=9'>10</a>\u001b[0m \u001b[39mfrom\u001b[39;00m \u001b[39mmetaworld\u001b[39;00m\u001b[39m.\u001b[39;00m\u001b[39menvs\u001b[39;00m\u001b[39m.\u001b[39;00m\u001b[39mmujoco\u001b[39;00m\u001b[39m.\u001b[39;00m\u001b[39msawyer_xyz\u001b[39;00m\u001b[39m.\u001b[39;00m\u001b[39mv2\u001b[39;00m\u001b[39m.\u001b[39;00m\u001b[39msawyer_coffee_pull_v2\u001b[39;00m \u001b[39mimport\u001b[39;00m SawyerCoffeePullEnvV2\n\u001b[1;32m     <a href='file:///home/ykai/anaconda3/envs/Testaa/lib/python3.9/site-packages/metaworld/envs/mujoco/sawyer_xyz/v2/__init__.py?line=10'>11</a>\u001b[0m \u001b[39mfrom\u001b[39;00m \u001b[39mmetaworld\u001b[39;00m\u001b[39m.\u001b[39;00m\u001b[39menvs\u001b[39;00m\u001b[39m.\u001b[39;00m\u001b[39mmujoco\u001b[39;00m\u001b[39m.\u001b[39;00m\u001b[39msawyer_xyz\u001b[39;00m\u001b[39m.\u001b[39;00m\u001b[39mv2\u001b[39;00m\u001b[39m.\u001b[39;00m\u001b[39msawyer_coffee_push_v2\u001b[39;00m \u001b[39mimport\u001b[39;00m SawyerCoffeePushEnvV2\n\u001b[1;32m     <a href='file:///home/ykai/anaconda3/envs/Testaa/lib/python3.9/site-packages/metaworld/envs/mujoco/sawyer_xyz/v2/__init__.py?line=11'>12</a>\u001b[0m \u001b[39mfrom\u001b[39;00m \u001b[39mmetaworld\u001b[39;00m\u001b[39m.\u001b[39;00m\u001b[39menvs\u001b[39;00m\u001b[39m.\u001b[39;00m\u001b[39mmujoco\u001b[39;00m\u001b[39m.\u001b[39;00m\u001b[39msawyer_xyz\u001b[39;00m\u001b[39m.\u001b[39;00m\u001b[39mv2\u001b[39;00m\u001b[39m.\u001b[39;00m\u001b[39msawyer_dial_turn_v2\u001b[39;00m \u001b[39mimport\u001b[39;00m SawyerDialTurnEnvV2\n",
      "File \u001b[0;32m~/anaconda3/envs/Testaa/lib/python3.9/site-packages/metaworld/envs/mujoco/sawyer_xyz/v2/sawyer_coffee_pull_v2.py:5\u001b[0m, in \u001b[0;36m<module>\u001b[0;34m\u001b[0m\n\u001b[1;32m      <a href='file:///home/ykai/anaconda3/envs/Testaa/lib/python3.9/site-packages/metaworld/envs/mujoco/sawyer_xyz/v2/sawyer_coffee_pull_v2.py?line=1'>2</a>\u001b[0m \u001b[39mfrom\u001b[39;00m \u001b[39mgym\u001b[39;00m\u001b[39m.\u001b[39;00m\u001b[39mspaces\u001b[39;00m \u001b[39mimport\u001b[39;00m Box\n\u001b[1;32m      <a href='file:///home/ykai/anaconda3/envs/Testaa/lib/python3.9/site-packages/metaworld/envs/mujoco/sawyer_xyz/v2/sawyer_coffee_pull_v2.py?line=2'>3</a>\u001b[0m \u001b[39mfrom\u001b[39;00m \u001b[39mscipy\u001b[39;00m\u001b[39m.\u001b[39;00m\u001b[39mspatial\u001b[39;00m\u001b[39m.\u001b[39;00m\u001b[39mtransform\u001b[39;00m \u001b[39mimport\u001b[39;00m Rotation\n\u001b[0;32m----> <a href='file:///home/ykai/anaconda3/envs/Testaa/lib/python3.9/site-packages/metaworld/envs/mujoco/sawyer_xyz/v2/sawyer_coffee_pull_v2.py?line=4'>5</a>\u001b[0m \u001b[39mfrom\u001b[39;00m \u001b[39mmetaworld\u001b[39;00m\u001b[39m.\u001b[39;00m\u001b[39menvs\u001b[39;00m \u001b[39mimport\u001b[39;00m reward_utils\n\u001b[1;32m      <a href='file:///home/ykai/anaconda3/envs/Testaa/lib/python3.9/site-packages/metaworld/envs/mujoco/sawyer_xyz/v2/sawyer_coffee_pull_v2.py?line=5'>6</a>\u001b[0m \u001b[39mfrom\u001b[39;00m \u001b[39mmetaworld\u001b[39;00m\u001b[39m.\u001b[39;00m\u001b[39menvs\u001b[39;00m\u001b[39m.\u001b[39;00m\u001b[39masset_path_utils\u001b[39;00m \u001b[39mimport\u001b[39;00m full_v2_path_for\n\u001b[1;32m      <a href='file:///home/ykai/anaconda3/envs/Testaa/lib/python3.9/site-packages/metaworld/envs/mujoco/sawyer_xyz/v2/sawyer_coffee_pull_v2.py?line=6'>7</a>\u001b[0m \u001b[39mfrom\u001b[39;00m \u001b[39mmetaworld\u001b[39;00m\u001b[39m.\u001b[39;00m\u001b[39menvs\u001b[39;00m\u001b[39m.\u001b[39;00m\u001b[39mmujoco\u001b[39;00m\u001b[39m.\u001b[39;00m\u001b[39msawyer_xyz\u001b[39;00m\u001b[39m.\u001b[39;00m\u001b[39msawyer_xyz_env\u001b[39;00m \u001b[39mimport\u001b[39;00m SawyerXYZEnv, _assert_task_is_set\n",
      "File \u001b[0;32m~/anaconda3/envs/Testaa/lib/python3.9/site-packages/metaworld/__init__.py:7\u001b[0m, in \u001b[0;36m<module>\u001b[0;34m\u001b[0m\n\u001b[1;32m      <a href='file:///home/ykai/anaconda3/envs/Testaa/lib/python3.9/site-packages/metaworld/__init__.py?line=3'>4</a>\u001b[0m \u001b[39mfrom\u001b[39;00m \u001b[39mcollections\u001b[39;00m \u001b[39mimport\u001b[39;00m OrderedDict\n\u001b[1;32m      <a href='file:///home/ykai/anaconda3/envs/Testaa/lib/python3.9/site-packages/metaworld/__init__.py?line=4'>5</a>\u001b[0m \u001b[39mfrom\u001b[39;00m \u001b[39mtyping\u001b[39;00m \u001b[39mimport\u001b[39;00m List, NamedTuple, Type\n\u001b[0;32m----> <a href='file:///home/ykai/anaconda3/envs/Testaa/lib/python3.9/site-packages/metaworld/__init__.py?line=6'>7</a>\u001b[0m \u001b[39mimport\u001b[39;00m \u001b[39mmetaworld\u001b[39;00m\u001b[39m.\u001b[39;00m\u001b[39menvs\u001b[39;00m\u001b[39m.\u001b[39;00m\u001b[39mmujoco\u001b[39;00m\u001b[39m.\u001b[39;00m\u001b[39menv_dict\u001b[39;00m \u001b[39mas\u001b[39;00m \u001b[39m_env_dict\u001b[39;00m\n\u001b[1;32m      <a href='file:///home/ykai/anaconda3/envs/Testaa/lib/python3.9/site-packages/metaworld/__init__.py?line=7'>8</a>\u001b[0m \u001b[39mimport\u001b[39;00m \u001b[39mnumpy\u001b[39;00m \u001b[39mas\u001b[39;00m \u001b[39mnp\u001b[39;00m\n\u001b[1;32m     <a href='file:///home/ykai/anaconda3/envs/Testaa/lib/python3.9/site-packages/metaworld/__init__.py?line=9'>10</a>\u001b[0m EnvName \u001b[39m=\u001b[39m \u001b[39mstr\u001b[39m\n",
      "\u001b[0;31mImportError\u001b[0m: cannot import name 'envs' from partially initialized module 'metaworld' (most likely due to a circular import) (/home/ykai/anaconda3/envs/Testaa/lib/python3.9/site-packages/metaworld/__init__.py)"
     ]
    }
   ],
   "source": [
    "import os\n",
    "import functools\n",
    "\n",
    "import cv2\n",
    "import numpy as np\n",
    "\n",
    "from tests.metaworld.envs.mujoco.sawyer_xyz.test_scripted_policies import ALL_ENVS, test_cases_latest_nonoise"
   ]
  },
  {
   "cell_type": "code",
   "execution_count": 32,
   "metadata": {},
   "outputs": [],
   "source": [
    "!LD_PRELOAD=/usr/lib/x86_64-linux-gnu/libGLEW.so:/usr/lib/nvidia/libGL.so\n"
   ]
  },
  {
   "cell_type": "code",
   "execution_count": 33,
   "metadata": {},
   "outputs": [],
   "source": [
    "!export LD_LIBRARY_PATH=$LD_LIBRARY_PATH:/usr/lib/nvidia\n",
    "!export LD_LIBRARY_PATH=$LD_LIBRARY_PATH:/usr/lib/nvidia-510\n",
    "!export LD_PRELOAD=/usr/lib/x86_64-linux-gnu/libGLEW.so"
   ]
  },
  {
   "cell_type": "code",
   "execution_count": 34,
   "metadata": {},
   "outputs": [
    {
     "data": {
      "text/plain": [
       "'/ssd_2/ssd2048/papers/Sensory_extended_metaworld/metaworld/scripts'"
      ]
     },
     "execution_count": 34,
     "metadata": {},
     "output_type": "execute_result"
    }
   ],
   "source": [
    "import os\n",
    "os.getcwd()"
   ]
  },
  {
   "cell_type": "code",
   "execution_count": 35,
   "metadata": {},
   "outputs": [],
   "source": [
    "def my_trajectory_generator(env, policy, act_noise_pct, res=(640, 480), camera='corner1', depth = True):\n",
    "    action_space_ptp = env.action_space.high - env.action_space.low\n",
    "    env.reset()\n",
    "    env.reset_model()\n",
    "    o = env.reset()\n",
    "\n",
    "    for _ in range(env.max_path_length):\n",
    "        a = policy.get_action(o)\n",
    "        a = np.random.normal(a, act_noise_pct * action_space_ptp)\n",
    "\n",
    "        o, r, done, info = env.step(a)\n",
    "        # Camera is one of ['corner', 'topview', 'behindGripper', 'gripperPOV']\n",
    "        # print(np.shape(env.sim.render(*res, mode='offscreen', camera_name=camera)[:,:,::-1]))\n",
    "        img, d = env.sim.render(*res, mode='offscreen', camera_name=camera,depth = depth)\n",
    "        # print(depth)\n",
    "        yield r, done, info, img, d\n",
    "        \n",
    "def write_for_img(tag, img):\n",
    "    if not os.path.exists('latentfusion_inputs'):\n",
    "        os.mkdir('latentfusion_inputs')\n",
    "    name = f'latentfusion_inputs/{tag}.png'\n",
    "    return cv2.imwrite(name, img)"
   ]
  },
  {
   "cell_type": "code",
   "execution_count": 36,
   "metadata": {},
   "outputs": [
    {
     "name": "stdout",
     "output_type": "stream",
     "text": [
      "[[0.9908411 0.9908411 0.9908411 ... 0.9908411 0.9908411 0.9908411]\n",
      " [0.9908411 0.9908411 0.9908411 ... 0.9908411 0.9908411 0.9908411]\n",
      " [0.9908411 0.9908411 0.9908411 ... 0.9908411 0.9908411 0.9908411]\n",
      " ...\n",
      " [0.9908411 0.9908411 0.9908411 ... 0.9908411 0.9908411 0.9908411]\n",
      " [0.9908411 0.9908411 0.9908411 ... 0.9908411 0.9908411 0.9908411]\n",
      " [0.9908411 0.9908411 0.9908411 ... 0.9908411 0.9908411 0.9908411]]\n",
      "(480, 640)\n",
      "[[0 0 0 ... 0 0 0]\n",
      " [0 0 0 ... 0 0 0]\n",
      " [0 0 0 ... 0 0 0]\n",
      " ...\n",
      " [0 0 0 ... 0 0 0]\n",
      " [0 0 0 ... 0 0 0]\n",
      " [0 0 0 ... 0 0 0]]\n"
     ]
    },
    {
     "ename": "ValueError",
     "evalue": "No \"camera\" with name corner1 exists. Available \"camera\" names = ('topview', 'my_topview1', 'corner', 'corner2', 'corner3', 'my_corner3', 'behindGripper', 'gripperPOV').",
     "output_type": "error",
     "traceback": [
      "\u001b[0;31m---------------------------------------------------------------------------\u001b[0m",
      "\u001b[0;31mValueError\u001b[0m                                Traceback (most recent call last)",
      "\u001b[1;32m/home/ykai/ssd_2/ssd2048/papers/Sensory_extended_metaworld/metaworld/scripts/scripted_policy_movies_ours_new.ipynb Cell 7'\u001b[0m in \u001b[0;36m<cell line: 9>\u001b[0;34m()\u001b[0m\n\u001b[1;32m     <a href='vscode-notebook-cell:/home/ykai/ssd_2/ssd2048/papers/Sensory_extended_metaworld/metaworld/scripts/scripted_policy_movies_ours_new.ipynb#ch0000010?line=21'>22</a>\u001b[0m env\u001b[39m.\u001b[39m_set_task_called \u001b[39m=\u001b[39m \u001b[39mTrue\u001b[39;00m\n\u001b[1;32m     <a href='vscode-notebook-cell:/home/ykai/ssd_2/ssd2048/papers/Sensory_extended_metaworld/metaworld/scripts/scripted_policy_movies_ours_new.ipynb#ch0000010?line=22'>23</a>\u001b[0m \u001b[39mfor\u001b[39;00m _ \u001b[39min\u001b[39;00m \u001b[39mrange\u001b[39m(cycles):\n\u001b[0;32m---> <a href='vscode-notebook-cell:/home/ykai/ssd_2/ssd2048/papers/Sensory_extended_metaworld/metaworld/scripts/scripted_policy_movies_ours_new.ipynb#ch0000010?line=23'>24</a>\u001b[0m     \u001b[39mfor\u001b[39;00m r, done, info, img, depth \u001b[39min\u001b[39;00m my_trajectory_generator(env, policy, noise, resolution, camera, depth \u001b[39m=\u001b[39m \u001b[39mTrue\u001b[39;00m):\n\u001b[1;32m     <a href='vscode-notebook-cell:/home/ykai/ssd_2/ssd2048/papers/Sensory_extended_metaworld/metaworld/scripts/scripted_policy_movies_ours_new.ipynb#ch0000010?line=24'>25</a>\u001b[0m         \u001b[39mif\u001b[39;00m flip: img \u001b[39m=\u001b[39m cv2\u001b[39m.\u001b[39mrotate(img, cv2\u001b[39m.\u001b[39mROTATE_180); depth \u001b[39m=\u001b[39m cv2\u001b[39m.\u001b[39mrotate(depth, cv2\u001b[39m.\u001b[39mROTATE_180)\n\u001b[1;32m     <a href='vscode-notebook-cell:/home/ykai/ssd_2/ssd2048/papers/Sensory_extended_metaworld/metaworld/scripts/scripted_policy_movies_ours_new.ipynb#ch0000010?line=25'>26</a>\u001b[0m         img \u001b[39m=\u001b[39m cv2\u001b[39m.\u001b[39mcvtColor(img, cv2\u001b[39m.\u001b[39mCOLOR_BGR2RGB)\n",
      "\u001b[1;32m/home/ykai/ssd_2/ssd2048/papers/Sensory_extended_metaworld/metaworld/scripts/scripted_policy_movies_ours_new.ipynb Cell 6'\u001b[0m in \u001b[0;36mmy_trajectory_generator\u001b[0;34m(env, policy, act_noise_pct, res, camera, depth)\u001b[0m\n\u001b[1;32m     <a href='vscode-notebook-cell:/home/ykai/ssd_2/ssd2048/papers/Sensory_extended_metaworld/metaworld/scripts/scripted_policy_movies_ours_new.ipynb#ch0000008?line=10'>11</a>\u001b[0m o, r, done, info \u001b[39m=\u001b[39m env\u001b[39m.\u001b[39mstep(a)\n\u001b[1;32m     <a href='vscode-notebook-cell:/home/ykai/ssd_2/ssd2048/papers/Sensory_extended_metaworld/metaworld/scripts/scripted_policy_movies_ours_new.ipynb#ch0000008?line=11'>12</a>\u001b[0m \u001b[39m# Camera is one of ['corner', 'topview', 'behindGripper', 'gripperPOV']\u001b[39;00m\n\u001b[1;32m     <a href='vscode-notebook-cell:/home/ykai/ssd_2/ssd2048/papers/Sensory_extended_metaworld/metaworld/scripts/scripted_policy_movies_ours_new.ipynb#ch0000008?line=12'>13</a>\u001b[0m \u001b[39m# print(np.shape(env.sim.render(*res, mode='offscreen', camera_name=camera)[:,:,::-1]))\u001b[39;00m\n\u001b[0;32m---> <a href='vscode-notebook-cell:/home/ykai/ssd_2/ssd2048/papers/Sensory_extended_metaworld/metaworld/scripts/scripted_policy_movies_ours_new.ipynb#ch0000008?line=13'>14</a>\u001b[0m img, d \u001b[39m=\u001b[39m env\u001b[39m.\u001b[39;49msim\u001b[39m.\u001b[39;49mrender(\u001b[39m*\u001b[39;49mres, mode\u001b[39m=\u001b[39;49m\u001b[39m'\u001b[39;49m\u001b[39moffscreen\u001b[39;49m\u001b[39m'\u001b[39;49m, camera_name\u001b[39m=\u001b[39;49mcamera,depth \u001b[39m=\u001b[39;49m depth)\n\u001b[1;32m     <a href='vscode-notebook-cell:/home/ykai/ssd_2/ssd2048/papers/Sensory_extended_metaworld/metaworld/scripts/scripted_policy_movies_ours_new.ipynb#ch0000008?line=14'>15</a>\u001b[0m \u001b[39m# print(depth)\u001b[39;00m\n\u001b[1;32m     <a href='vscode-notebook-cell:/home/ykai/ssd_2/ssd2048/papers/Sensory_extended_metaworld/metaworld/scripts/scripted_policy_movies_ours_new.ipynb#ch0000008?line=15'>16</a>\u001b[0m \u001b[39myield\u001b[39;00m r, done, info, img, d\n",
      "File \u001b[0;32mmjsim.pyx:153\u001b[0m, in \u001b[0;36mmujoco_py.cymj.MjSim.render\u001b[0;34m()\u001b[0m\n",
      "File \u001b[0;32mwrappers.pxi:1071\u001b[0m, in \u001b[0;36mmujoco_py.cymj.PyMjModel.camera_name2id\u001b[0;34m()\u001b[0m\n",
      "\u001b[0;31mValueError\u001b[0m: No \"camera\" with name corner1 exists. Available \"camera\" names = ('topview', 'my_topview1', 'corner', 'corner2', 'corner3', 'my_corner3', 'behindGripper', 'gripperPOV')."
     ]
    }
   ],
   "source": [
    "resolution = (640, 480)\n",
    "camera = ['topview', 'corner1', 'corner2', 'corner3', 'behindGripper']\n",
    "flip=True # if True, flips output image 180 degrees\n",
    "\n",
    "config = [\n",
    "    # env, action noise pct, cycles, quit on success\n",
    "    ('assembly-v2', np.zeros(4), 1, True),\n",
    "]\n",
    "for camera in camera:\n",
    "    if camera in ['corner1', 'corner2', 'corner3']:\n",
    "        flip = False\n",
    "    else:\n",
    "        flip = True\n",
    "    for env, noise, cycles, quit_on_success in config:\n",
    "        tag = env + '-noise-' + np.array2string(noise, precision=2, separator=',', suppress_small=True)\\\n",
    "            + '-cycles-'+ str(cycles) +'-camera-'+ camera\n",
    "\n",
    "        policy = functools.reduce(lambda a,b : a if a[0] == env else b, test_cases_latest_nonoise)[1]\n",
    "        env = ALL_ENVS[env]()\n",
    "        env._partially_observable = False\n",
    "        env._freeze_rand_vec = False\n",
    "        env._set_task_called = True\n",
    "        for _ in range(cycles):\n",
    "            for r, done, info, img, depth in my_trajectory_generator(env, policy, noise, resolution, camera, depth = True):\n",
    "                if flip: img = cv2.rotate(img, cv2.ROTATE_180); depth = cv2.rotate(depth, cv2.ROTATE_180)\n",
    "                img = cv2.cvtColor(img, cv2.COLOR_BGR2RGB)\n",
    "                write_for_img(tag, img)\n",
    "                \n",
    "                print(depth)\n",
    "                depth = (np.max(depth)-depth) / (np.max(depth) - np.min(depth))\n",
    "                # depth = (depth-np.min(depth)) / (np.max(depth) - np.min(depth))\n",
    "                depth = np.asarray(depth * 15, dtype=np.uint8)\n",
    "                print(np.shape(depth))\n",
    "                print(depth)\n",
    "                write_for_img(tag+'_depth', depth)\n",
    "                \n",
    "                break"
   ]
  },
  {
   "cell_type": "code",
   "execution_count": 38,
   "metadata": {},
   "outputs": [
    {
     "name": "stdout",
     "output_type": "stream",
     "text": [
      "[]\n"
     ]
    }
   ],
   "source": [
    "import glob\n",
    "import os\n",
    "import sys\n",
    "\n",
    "def get_egg_file(module_name):\n",
    "    def f(packages):\n",
    "        return glob.glob(\n",
    "            os.path.join(os.path.dirname(os.path.dirname(sys.executable)),\n",
    "                         'lib', 'python*', packages, module_name + '.egg-link'))\n",
    "\n",
    "    return f('site-packages') or f('dist-packages')\n",
    "\n",
    "\n",
    "egg_file = get_egg_file('metaworld')\n",
    "print(egg_file)\n",
    "# if egg_file:\n",
    "#     os.remove(egg_file[0])\n"
   ]
  },
  {
   "cell_type": "code",
   "execution_count": null,
   "metadata": {},
   "outputs": [],
   "source": []
  }
 ],
 "metadata": {
  "interpreter": {
   "hash": "5c863dab3e473e6a95fb3bd2f60bce5515eaebce20b5d05d4566631180f0114b"
  },
  "kernelspec": {
   "display_name": "Python 3.9.13 ('Testaa')",
   "language": "python",
   "name": "python3"
  },
  "language_info": {
   "codemirror_mode": {
    "name": "ipython",
    "version": 3
   },
   "file_extension": ".py",
   "mimetype": "text/x-python",
   "name": "python",
   "nbconvert_exporter": "python",
   "pygments_lexer": "ipython3",
   "version": "3.9.13"
  }
 },
 "nbformat": 4,
 "nbformat_minor": 4
}
