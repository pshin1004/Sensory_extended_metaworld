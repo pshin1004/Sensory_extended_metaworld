{
 "cells": [
  {
   "cell_type": "markdown",
   "metadata": {},
   "source": [
    ">Quick Start\n",
    "- conda create -n {name} python=3.9\n",
    "- conda activate {name}\n",
    "- cd {metaworld root}\n",
    "- pip install .\n",
    "- conda install -c anaconda ipykernel\n",
    "- conda install -c conda-forge opencv\n",
    "- conda install -c anaconda pytest\n",
    "- conda install -c anaconda scipy\n"
   ]
  },
  {
   "cell_type": "code",
   "execution_count": 10,
   "metadata": {},
   "outputs": [],
   "source": [
    "# For preventing some error message\n",
    "import gym\n",
    "gym.logger.set_level(40)"
   ]
  },
  {
   "cell_type": "code",
   "execution_count": 11,
   "metadata": {
    "collapsed": false,
    "jupyter": {
     "outputs_hidden": false
    },
    "pycharm": {
     "name": "#%%\n"
    }
   },
   "outputs": [],
   "source": [
    "import os\n",
    "import functools\n",
    "\n",
    "import cv2\n",
    "import numpy as np\n",
    "\n",
    "from tests.metaworld.envs.mujoco.sawyer_xyz.test_scripted_policies import ALL_ENVS, test_cases_latest_nonoise"
   ]
  },
  {
   "cell_type": "code",
   "execution_count": 12,
   "metadata": {},
   "outputs": [],
   "source": [
    "!LD_PRELOAD=/usr/lib/x86_64-linux-gnu/libGLEW.so:/usr/lib/nvidia/libGL.so\n"
   ]
  },
  {
   "cell_type": "code",
   "execution_count": 13,
   "metadata": {},
   "outputs": [],
   "source": [
    "!export LD_LIBRARY_PATH=$LD_LIBRARY_PATH:/usr/lib/nvidia\n",
    "!export LD_LIBRARY_PATH=$LD_LIBRARY_PATH:/usr/lib/nvidia-510\n",
    "!export LD_PRELOAD=/usr/lib/x86_64-linux-gnu/libGLEW.so"
   ]
  },
  {
   "cell_type": "code",
   "execution_count": 14,
   "metadata": {},
   "outputs": [
    {
     "data": {
      "text/plain": [
       "'/ssd_2/ssd2048/papers/Sensory_extended_metaworld/metaworld/scripts'"
      ]
     },
     "execution_count": 14,
     "metadata": {},
     "output_type": "execute_result"
    }
   ],
   "source": [
    "import os\n",
    "os.getcwd()"
   ]
  },
  {
   "cell_type": "code",
   "execution_count": 41,
   "metadata": {},
   "outputs": [],
   "source": [
    "def my_trajectory_generator(env, policy, act_noise_pct, res=(640, 480), camera='corner1', depth = True):\n",
    "    action_space_ptp = env.action_space.high - env.action_space.low\n",
    "    env.reset()\n",
    "    env.reset_model()\n",
    "    o = env.reset()\n",
    "\n",
    "    for _ in range(env.max_path_length):\n",
    "        a = policy.get_action(o)\n",
    "        a = np.random.normal(a, act_noise_pct * action_space_ptp)\n",
    "\n",
    "        o, r, done, info = env.step(a)\n",
    "        # Camera is one of ['corner', 'topview', 'behindGripper', ...]\n",
    "        # pose is like [x,y,z], z direction vector is normal to table surface.\n",
    "        obj_angle, obj_pos, hand_pos =  env.obj_init_angle, env.obj_init_pos, env.hand_init_pos\n",
    "        img, d = env.sim.render(*res, mode='offscreen', camera_name=camera,depth = depth)\n",
    "        # print(depth)\n",
    "        yield r, done, info, img, d, {\"obj_angle\": obj_angle, \"obj_pos\": obj_pos, \"hand_pos\": hand_pos}\n",
    "        \n",
    "def write_for_img(tag, img):\n",
    "    if not os.path.exists('latentfusion_inputs'):\n",
    "        os.mkdir('latentfusion_inputs')\n",
    "    name = f'latentfusion_inputs/{tag}.png'\n",
    "    return cv2.imwrite(name, img)\n",
    "\n",
    "def write_log_text(tag, pose, written):\n",
    "    if not written:\n",
    "        import time\n",
    "        timestr = time.strftime(\"%Y%m%d-%H%M%S\")\n",
    "        name = f'latentfusion_inputs/{tag}.txt'\n",
    "        with open(name, \"a\") as file:\n",
    "            file.write(timestr+\":\\t\")\n",
    "            for key in pose:\n",
    "                file.write(key+\":\"+str(pose[key])+\"\\t\")\n",
    "            file.write(\"\\n\")\n",
    "            file.close()\n",
    "    return True\n",
    "    "
   ]
  },
  {
   "cell_type": "code",
   "execution_count": 42,
   "metadata": {},
   "outputs": [
    {
     "name": "stdout",
     "output_type": "stream",
     "text": [
      "[[0.9908411 0.9908411 0.9908411 ... 0.9908411 0.9908411 0.9908411]\n",
      " [0.9908411 0.9908411 0.9908411 ... 0.9908411 0.9908411 0.9908411]\n",
      " [0.9908411 0.9908411 0.9908411 ... 0.9908411 0.9908411 0.9908411]\n",
      " ...\n",
      " [0.9908411 0.9908411 0.9908411 ... 0.9908411 0.9908411 0.9908411]\n",
      " [0.9908411 0.9908411 0.9908411 ... 0.9908411 0.9908411 0.9908411]\n",
      " [0.9908411 0.9908411 0.9908411 ... 0.9908411 0.9908411 0.9908411]]\n",
      "(480, 640)\n",
      "[[0 0 0 ... 0 0 0]\n",
      " [0 0 0 ... 0 0 0]\n",
      " [0 0 0 ... 0 0 0]\n",
      " ...\n",
      " [0 0 0 ... 0 0 0]\n",
      " [0 0 0 ... 0 0 0]\n",
      " [0 0 0 ... 0 0 0]]\n",
      "{'obj_angle': 0.3, 'obj_pos': array([0.        , 0.60000002, 0.02      ]), 'hand_pos': array([0. , 0.6, 0.2], dtype=float32)}\n",
      "[[0.99985266 0.9998529  0.99985313 ... 0.99985313 0.9998529  0.99985266]\n",
      " [0.9998528  0.999853   0.99985325 ... 0.99985325 0.999853   0.9998528 ]\n",
      " [0.99985296 0.99985313 0.9998534  ... 0.9998534  0.99985313 0.99985296]\n",
      " ...\n",
      " [0.9902597  0.9902597  0.9902597  ... 0.9902597  0.9902597  0.9902597 ]\n",
      " [0.9902349  0.9902349  0.9902349  ... 0.9902349  0.9902349  0.9902349 ]\n",
      " [0.9902101  0.9902101  0.9902101  ... 0.9902101  0.9902101  0.9902101 ]]\n",
      "(480, 640)\n",
      "[[0 0 0 ... 0 0 0]\n",
      " [0 0 0 ... 0 0 0]\n",
      " [0 0 0 ... 0 0 0]\n",
      " ...\n",
      " [5 5 5 ... 5 5 5]\n",
      " [5 5 5 ... 5 5 5]\n",
      " [5 5 5 ... 5 5 5]]\n",
      "{'obj_angle': 0.3, 'obj_pos': array([0.        , 0.60000002, 0.02      ]), 'hand_pos': array([0. , 0.6, 0.2], dtype=float32)}\n",
      "[[0.999802   0.9998024  0.9998028  ... 0.99980485 0.99980444 0.999804  ]\n",
      " [0.99980223 0.9998027  0.9998031  ... 0.9998051  0.9998047  0.9998042 ]\n",
      " [0.99980253 0.99980295 0.99980336 ... 0.99980533 0.9998049  0.99980444]\n",
      " ...\n",
      " [0.9886811  0.9886827  0.98868424 ... 0.9896857  0.98968726 0.9896889 ]\n",
      " [0.98865753 0.9886591  0.9886607  ... 0.9896622  0.9896637  0.98966527]\n",
      " [0.988634   0.98863554 0.9886371  ... 0.98963857 0.9896402  0.9896417 ]]\n",
      "(480, 640)\n",
      "[[0 0 0 ... 0 0 0]\n",
      " [0 0 0 ... 0 0 0]\n",
      " [0 0 0 ... 0 0 0]\n",
      " ...\n",
      " [8 8 8 ... 7 7 7]\n",
      " [8 8 8 ... 7 7 7]\n",
      " [8 8 8 ... 7 7 7]]\n",
      "{'obj_angle': 0.3, 'obj_pos': array([0.        , 0.60000002, 0.02      ]), 'hand_pos': array([0. , 0.6, 0.2], dtype=float32)}\n",
      "[[0.99472314 0.9947219  0.9947206  ... 0.993911   0.9939098  0.9939085 ]\n",
      " [0.9947146  0.99471337 0.9947121  ... 0.99390256 0.9939013  0.9939    ]\n",
      " [0.99470615 0.9947049  0.9947036  ... 0.99389404 0.9938928  0.99389154]\n",
      " ...\n",
      " [0.9906682  0.99066687 0.9906656  ... 0.989856   0.9898547  0.98985344]\n",
      " [0.99065965 0.9906584  0.9906571  ... 0.9898475  0.9898462  0.9898449 ]\n",
      " [0.9906512  0.9906499  0.9906486  ... 0.98983896 0.9898377  0.98983645]]\n",
      "(480, 640)\n",
      "[[0 0 0 ... 0 0 0]\n",
      " [0 0 0 ... 0 0 0]\n",
      " [0 0 0 ... 0 0 0]\n",
      " ...\n",
      " [4 4 4 ... 4 4 4]\n",
      " [4 4 4 ... 4 4 4]\n",
      " [4 4 4 ... 4 4 4]]\n",
      "{'obj_angle': 0.3, 'obj_pos': array([0.        , 0.60000002, 0.02      ]), 'hand_pos': array([0. , 0.6, 0.2], dtype=float32)}\n",
      "[[0.99981827 0.9998186  0.99981904 ... 0.999819   0.9998186  0.99981827]\n",
      " [0.9998184  0.99981874 0.9998191  ... 0.9998191  0.99981874 0.9998183 ]\n",
      " [0.9998185  0.99981886 0.9998192  ... 0.99981916 0.9998188  0.99981844]\n",
      " ...\n",
      " [0.9407917  0.9407917  0.9407917  ... 0.94079286 0.94079286 0.94079286]\n",
      " [0.9406008  0.9406008  0.9406008  ... 0.940602   0.940602   0.940602  ]\n",
      " [0.9404099  0.9404099  0.9404099  ... 0.9404111  0.9404111  0.9404111 ]]\n",
      "(480, 640)\n",
      "[[ 0  0  0 ...  0  0  0]\n",
      " [ 0  0  0 ...  0  0  0]\n",
      " [ 0  0  0 ...  0  0  0]\n",
      " ...\n",
      " [13 13 13 ... 13 13 13]\n",
      " [13 13 13 ... 13 13 13]\n",
      " [13 13 13 ... 13 13 13]]\n",
      "{'obj_angle': 0.3, 'obj_pos': array([0.        , 0.60000002, 0.02      ]), 'hand_pos': array([0. , 0.6, 0.2], dtype=float32)}\n"
     ]
    }
   ],
   "source": [
    "resolution = (640, 480)\n",
    "camera = ['topview', 'corner1', 'corner2', 'corner3', 'behindGripper']\n",
    "flip=True # if True, flips output image 180 degrees\n",
    "\n",
    "config = [\n",
    "    # env, action noise pct, cycles, quit on success\n",
    "    ('assembly-v2', np.zeros(4), 1, True),\n",
    "]\n",
    "pose_log_written = False\n",
    "for camera in camera:\n",
    "    if camera in ['corner1', 'corner2', 'corner3']:\n",
    "        flip = False\n",
    "    else:\n",
    "        flip = True\n",
    "    for env, noise, cycles, quit_on_success in config:\n",
    "        tag = env + '-noise-' + np.array2string(noise, precision=2, separator=',', suppress_small=True)\\\n",
    "            + '-cycles-'+ str(cycles) +'-camera-'+ camera\n",
    "\n",
    "        policy = functools.reduce(lambda a,b : a if a[0] == env else b, test_cases_latest_nonoise)[1]\n",
    "        env = ALL_ENVS[env]()\n",
    "        env._partially_observable = False\n",
    "        env._freeze_rand_vec = False\n",
    "        env._set_task_called = True\n",
    "        for _ in range(cycles):\n",
    "            for r, done, info, img, depth, pose in my_trajectory_generator(env, policy, noise, resolution, camera, depth = True):\n",
    "                if flip: img = cv2.rotate(img, cv2.ROTATE_180); depth = cv2.rotate(depth, cv2.ROTATE_180)\n",
    "                img = cv2.cvtColor(img, cv2.COLOR_BGR2RGB)\n",
    "                write_for_img(tag, img)\n",
    "                \n",
    "                print(depth)\n",
    "                depth = (np.max(depth)-depth) / (np.max(depth) - np.min(depth))\n",
    "                # depth = (depth-np.min(depth)) / (np.max(depth) - np.min(depth))\n",
    "                depth = np.asarray(depth * 15, dtype=np.uint8)\n",
    "                print(np.shape(depth))\n",
    "                print(depth)\n",
    "                write_for_img(tag+'_depth', depth)\n",
    "                \n",
    "                print(pose)\n",
    "                pose_log_written = write_log_text(\"pose\", pose, pose_log_written)\n",
    "                \n",
    "                break"
   ]
  },
  {
   "cell_type": "markdown",
   "metadata": {},
   "source": [
    "This is example log of pose.txt.\n",
    "- 20220602-000011:\tobj_angle:0.3\tobj_pos:[0.         0.60000002 0.02      ]\thand_pos:[0.  0.6 0.2]\t"
   ]
  },
  {
   "cell_type": "code",
   "execution_count": null,
   "metadata": {},
   "outputs": [],
   "source": []
  }
 ],
 "metadata": {
  "interpreter": {
   "hash": "5c863dab3e473e6a95fb3bd2f60bce5515eaebce20b5d05d4566631180f0114b"
  },
  "kernelspec": {
   "display_name": "Python 3.9.13 ('Testaa')",
   "language": "python",
   "name": "python3"
  },
  "language_info": {
   "codemirror_mode": {
    "name": "ipython",
    "version": 3
   },
   "file_extension": ".py",
   "mimetype": "text/x-python",
   "name": "python",
   "nbconvert_exporter": "python",
   "pygments_lexer": "ipython3",
   "version": "3.9.13"
  }
 },
 "nbformat": 4,
 "nbformat_minor": 4
}
