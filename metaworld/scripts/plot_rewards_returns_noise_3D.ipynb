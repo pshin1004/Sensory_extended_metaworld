{
 "cells": [
  {
   "cell_type": "code",
   "execution_count": 1,
   "metadata": {
    "pycharm": {
     "name": "#%%\n"
    }
   },
   "outputs": [
    {
     "name": "stdout",
     "output_type": "stream",
     "text": [
      "mujoco here!\n",
      "mujoco now here!\n",
      "mujoco here!\n",
      "mujoco now here!\n"
     ]
    },
    {
     "name": "stderr",
     "output_type": "stream",
     "text": [
      "/home/ykai/anaconda3/envs/metaGarage/lib/python3.9/site-packages/gym/spaces/box.py:84: UserWarning: \u001b[33mWARN: Box bound precision lowered by casting to float32\u001b[0m\n",
      "  logger.warn(f\"Box bound precision lowered by casting to {self.dtype}\")\n"
     ]
    }
   ],
   "source": [
    "import os\n",
    "import functools\n",
    "\n",
    "import numpy as np\n",
    "import matplotlib.pyplot as plt\n",
    "# %matplotlib tk\n",
    "from matplotlib import cm\n",
    "import seaborn as sns\n",
    "\n",
    "from tests.metaworld.envs.mujoco.sawyer_xyz.utils import trajectory_summary\n",
    "from tests.metaworld.envs.mujoco.sawyer_xyz.test_scripted_policies import ALL_ENVS, test_cases_latest_nonoise\n",
    "\n",
    "sns.set()"
   ]
  },
  {
   "cell_type": "code",
   "execution_count": 2,
   "metadata": {
    "pycharm": {
     "name": "#%%\n"
    }
   },
   "outputs": [],
   "source": [
    "def sample_trajectories_from(env, policy, act_noise_pct, iters=100):\n",
    "    sampled_rewards = []\n",
    "    sampled_returns = []\n",
    "    sampled_first_successes = []\n",
    "\n",
    "    for _ in range(iters):\n",
    "        s = trajectory_summary(env, policy, act_noise_pct, end_on_success=False)\n",
    "        sampled_rewards.append(s[1])\n",
    "        sampled_returns.append(s[2])\n",
    "        sampled_first_successes.append(s[3])\n",
    "\n",
    "    sampled_rewards = np.vstack(sampled_rewards)\n",
    "    sampled_returns = np.vstack(sampled_returns)\n",
    "    sampled_first_successes = np.array(sampled_first_successes)\n",
    "\n",
    "    return sampled_rewards, sampled_returns, sampled_first_successes\n",
    "\n",
    "\n",
    "def plot(rewards, returns, tag, dim):\n",
    "    x = np.linspace(0, 1, rewards.shape[0])\n",
    "    y = np.arange(rewards.shape[1])\n",
    "    X, Y = np.meshgrid(x, y)\n",
    "    \n",
    "    fig = plt.figure(figsize=(12, 5))\n",
    "\n",
    "    Z = rewards.T\n",
    "    norm = plt.Normalize(Z.min(), Z.max())\n",
    "    colors = cm.viridis(norm(Z))\n",
    "    rcount, ccount, _ = colors.shape\n",
    "\n",
    "    ax0 = fig.add_subplot(121, projection='3d')\n",
    "    surf = ax0.plot_surface(X, Y, Z, rcount=rcount, ccount=ccount, facecolors=colors, shade=False)\n",
    "\n",
    "    surf.set_facecolor((0,0,0,0))\n",
    "    ax0.set_xlabel(f'Noise Percent in Action Dim {dim}')\n",
    "    ax0.set_ylabel('Time Steps')\n",
    "    ax0.set_zlabel('Rewards')\n",
    "    ax0.set_zscale('symlog')\n",
    "\n",
    "    Z = returns.T\n",
    "    norm = plt.Normalize(Z.min(), Z.max())\n",
    "    colors = cm.viridis(norm(Z))\n",
    "    rcount, ccount, _ = colors.shape\n",
    "\n",
    "    ax1 = fig.add_subplot(122, projection='3d')\n",
    "    surf = ax1.plot_surface(X, Y, Z, rcount=rcount, ccount=ccount, facecolors=colors, shade=False)\n",
    "\n",
    "    surf.set_facecolor((0,0,0,0))\n",
    "    ax1.set_xlabel(f'Noise Percent in Action Dim {dim}')\n",
    "    ax1.set_ylabel('Time Steps')\n",
    "    ax1.set_zlabel('Returns')\n",
    "    ax1.set_zscale('symlog')\n",
    "\n",
    "    plt.subplots_adjust(top=.85)\n",
    "    fig.suptitle(f'{tag}')\n",
    "    fig.tight_layout(rect=[0, 0.03, 1, 0.95])\n",
    "\n",
    "    ax0.view_init(30, +32)\n",
    "    ax1.view_init(30, -45)\n",
    "    plt.show()\n",
    "    if not os.path.exists('figures'):\n",
    "        os.mkdir('figures')\n",
    "    fig.savefig(f'figures/{tag}_vary_noise_rewards_returns.jpg')"
   ]
  },
  {
   "cell_type": "code",
   "execution_count": 3,
   "metadata": {
    "pycharm": {
     "name": "#%%\n"
    }
   },
   "outputs": [
    {
     "ename": "AssertionError",
     "evalue": "Obs Out of Bounds\n\tlow: [-0.525   0.348  -0.0525 -0.1     0.8     0.05  ], \n\tobs: [ 0.00615235  0.6001898   0.19430117 -0.07482512  0.86493335  0.13183421], \n\thigh: [0.525 1.025 0.7   0.1   0.9   0.3  ]",
     "output_type": "error",
     "traceback": [
      "\u001b[0;31m---------------------------------------------------------------------------\u001b[0m",
      "\u001b[0;31mAssertionError\u001b[0m                            Traceback (most recent call last)",
      "Input \u001b[0;32mIn [3]\u001b[0m, in \u001b[0;36m<cell line: 14>\u001b[0;34m()\u001b[0m\n\u001b[1;32m     26\u001b[0m \u001b[38;5;28;01mfor\u001b[39;00m i \u001b[38;5;129;01min\u001b[39;00m np\u001b[38;5;241m.\u001b[39mlinspace(\u001b[38;5;241m0\u001b[39m, \u001b[38;5;241m1\u001b[39m, \u001b[38;5;241m10\u001b[39m):\n\u001b[1;32m     27\u001b[0m     noise[axis] \u001b[38;5;241m=\u001b[39m i\n\u001b[0;32m---> 29\u001b[0m     rew, ret, _ \u001b[38;5;241m=\u001b[39m \u001b[43msample_trajectories_from\u001b[49m\u001b[43m(\u001b[49m\u001b[43menv\u001b[49m\u001b[43m,\u001b[49m\u001b[43m \u001b[49m\u001b[43mpolicy\u001b[49m\u001b[43m,\u001b[49m\u001b[43m \u001b[49m\u001b[43mnoise\u001b[49m\u001b[43m)\u001b[49m\n\u001b[1;32m     30\u001b[0m     sampled_rewards\u001b[38;5;241m.\u001b[39mappend(rew\u001b[38;5;241m.\u001b[39mmean(axis\u001b[38;5;241m=\u001b[39m\u001b[38;5;241m0\u001b[39m))\n\u001b[1;32m     31\u001b[0m     sampled_returns\u001b[38;5;241m.\u001b[39mappend(ret\u001b[38;5;241m.\u001b[39mmean(axis\u001b[38;5;241m=\u001b[39m\u001b[38;5;241m0\u001b[39m))\n",
      "Input \u001b[0;32mIn [2]\u001b[0m, in \u001b[0;36msample_trajectories_from\u001b[0;34m(env, policy, act_noise_pct, iters)\u001b[0m\n\u001b[1;32m      4\u001b[0m sampled_first_successes \u001b[38;5;241m=\u001b[39m []\n\u001b[1;32m      6\u001b[0m \u001b[38;5;28;01mfor\u001b[39;00m _ \u001b[38;5;129;01min\u001b[39;00m \u001b[38;5;28mrange\u001b[39m(iters):\n\u001b[0;32m----> 7\u001b[0m     s \u001b[38;5;241m=\u001b[39m \u001b[43mtrajectory_summary\u001b[49m\u001b[43m(\u001b[49m\u001b[43menv\u001b[49m\u001b[43m,\u001b[49m\u001b[43m \u001b[49m\u001b[43mpolicy\u001b[49m\u001b[43m,\u001b[49m\u001b[43m \u001b[49m\u001b[43mact_noise_pct\u001b[49m\u001b[43m,\u001b[49m\u001b[43m \u001b[49m\u001b[43mend_on_success\u001b[49m\u001b[38;5;241;43m=\u001b[39;49m\u001b[38;5;28;43;01mFalse\u001b[39;49;00m\u001b[43m)\u001b[49m\n\u001b[1;32m      8\u001b[0m     sampled_rewards\u001b[38;5;241m.\u001b[39mappend(s[\u001b[38;5;241m1\u001b[39m])\n\u001b[1;32m      9\u001b[0m     sampled_returns\u001b[38;5;241m.\u001b[39mappend(s[\u001b[38;5;241m2\u001b[39m])\n",
      "File \u001b[0;32m/ssd_2/ssd2048/papers/metaworld/tests/metaworld/envs/mujoco/sawyer_xyz/utils.py:22\u001b[0m, in \u001b[0;36mtrajectory_summary\u001b[0;34m(env, policy, act_noise_pct, render, end_on_success)\u001b[0m\n\u001b[1;32m     19\u001b[0m first_success \u001b[38;5;241m=\u001b[39m \u001b[38;5;241m0\u001b[39m\n\u001b[1;32m     20\u001b[0m rewards \u001b[38;5;241m=\u001b[39m []\n\u001b[0;32m---> 22\u001b[0m \u001b[38;5;28;01mfor\u001b[39;00m t, (r, done, info) \u001b[38;5;129;01min\u001b[39;00m \u001b[38;5;28menumerate\u001b[39m(trajectory_generator(env, policy, act_noise_pct, render)):\n\u001b[1;32m     23\u001b[0m     rewards\u001b[38;5;241m.\u001b[39mappend(r)\n\u001b[1;32m     24\u001b[0m     \u001b[38;5;28;01massert\u001b[39;00m \u001b[38;5;129;01mnot\u001b[39;00m env\u001b[38;5;241m.\u001b[39misV2 \u001b[38;5;129;01mor\u001b[39;00m \u001b[38;5;28mset\u001b[39m(info\u001b[38;5;241m.\u001b[39mkeys()) \u001b[38;5;241m==\u001b[39m {\n\u001b[1;32m     25\u001b[0m         \u001b[38;5;124m'\u001b[39m\u001b[38;5;124msuccess\u001b[39m\u001b[38;5;124m'\u001b[39m,\n\u001b[1;32m     26\u001b[0m         \u001b[38;5;124m'\u001b[39m\u001b[38;5;124mnear_object\u001b[39m\u001b[38;5;124m'\u001b[39m,\n\u001b[0;32m   (...)\u001b[0m\n\u001b[1;32m     31\u001b[0m         \u001b[38;5;124m'\u001b[39m\u001b[38;5;124munscaled_reward\u001b[39m\u001b[38;5;124m'\u001b[39m\n\u001b[1;32m     32\u001b[0m     }\n",
      "File \u001b[0;32m/ssd_2/ssd2048/papers/metaworld/tests/metaworld/envs/mujoco/sawyer_xyz/utils.py:63\u001b[0m, in \u001b[0;36mtrajectory_generator\u001b[0;34m(env, policy, act_noise_pct, render)\u001b[0m\n\u001b[1;32m     61\u001b[0m o \u001b[38;5;241m=\u001b[39m env\u001b[38;5;241m.\u001b[39mreset()\n\u001b[1;32m     62\u001b[0m \u001b[38;5;28;01massert\u001b[39;00m o\u001b[38;5;241m.\u001b[39mshape \u001b[38;5;241m==\u001b[39m env\u001b[38;5;241m.\u001b[39mobservation_space\u001b[38;5;241m.\u001b[39mshape\n\u001b[0;32m---> 63\u001b[0m \u001b[38;5;28;01massert\u001b[39;00m env\u001b[38;5;241m.\u001b[39mobservation_space\u001b[38;5;241m.\u001b[39mcontains(o), obs_space_error_text(env, o)\n\u001b[1;32m     65\u001b[0m \u001b[38;5;28;01mfor\u001b[39;00m _ \u001b[38;5;129;01min\u001b[39;00m \u001b[38;5;28mrange\u001b[39m(env\u001b[38;5;241m.\u001b[39mmax_path_length):\n\u001b[1;32m     66\u001b[0m     a \u001b[38;5;241m=\u001b[39m policy\u001b[38;5;241m.\u001b[39mget_action(o)\n",
      "\u001b[0;31mAssertionError\u001b[0m: Obs Out of Bounds\n\tlow: [-0.525   0.348  -0.0525 -0.1     0.8     0.05  ], \n\tobs: [ 0.00615235  0.6001898   0.19430117 -0.07482512  0.86493335  0.13183421], \n\thigh: [0.525 1.025 0.7   0.1   0.9   0.3  ]"
     ]
    }
   ],
   "source": [
    "config = [\n",
    "#     ['button-press-topdown-v1', 3],\n",
    "    ['pick-place-v2', 3],\n",
    "#     ['reach-v2', 3],\n",
    "#     ['window-open-v2', 3],\n",
    "#     ['sweep-v1', 3],\n",
    "#     ['sweep-into-v1', 3],\n",
    "#     ['shelf-place-v2', 3],\n",
    "#     ['push-v2', 3],\n",
    "#     ['peg-insert-side-v2', 3],\n",
    "#     ['lever-pull-v2', 3],\n",
    "]\n",
    "\n",
    "for env, axis in config:\n",
    "    tag = env + '-vary-axis-' + str(axis)\n",
    "    policy = functools.reduce(lambda a,b : a if a[0] == env else b, test_cases_latest_nonoise)[1]\n",
    "    env = ALL_ENVS[env]()\n",
    "    env._partially_observable = False\n",
    "    env._freeze_rand_vec = False\n",
    "    env._set_task_called = True\n",
    "\n",
    "    sampled_rewards, sampled_returns = [], []\n",
    "    noise = np.full(4, .75)\n",
    "    tag = tag + '-others-75-percent'\n",
    "\n",
    "    for i in np.linspace(0, 1, 10):\n",
    "        noise[axis] = i\n",
    "\n",
    "        rew, ret, _ = sample_trajectories_from(env, policy, noise)\n",
    "        sampled_rewards.append(rew.mean(axis=0))\n",
    "        sampled_returns.append(ret.mean(axis=0))\n",
    "\n",
    "    sampled_rewards = np.vstack(sampled_rewards)\n",
    "    sampled_returns = np.vstack(sampled_returns)\n",
    "\n",
    "    plot(sampled_rewards, sampled_returns, tag, axis)"
   ]
  },
  {
   "cell_type": "code",
   "execution_count": null,
   "metadata": {},
   "outputs": [],
   "source": []
  },
  {
   "cell_type": "code",
   "execution_count": null,
   "metadata": {},
   "outputs": [],
   "source": []
  }
 ],
 "metadata": {
  "kernelspec": {
   "display_name": "Python 3 (ipykernel)",
   "language": "python",
   "name": "python3"
  },
  "language_info": {
   "codemirror_mode": {
    "name": "ipython",
    "version": 3
   },
   "file_extension": ".py",
   "mimetype": "text/x-python",
   "name": "python",
   "nbconvert_exporter": "python",
   "pygments_lexer": "ipython3",
   "version": "3.9.0"
  }
 },
 "nbformat": 4,
 "nbformat_minor": 4
}
